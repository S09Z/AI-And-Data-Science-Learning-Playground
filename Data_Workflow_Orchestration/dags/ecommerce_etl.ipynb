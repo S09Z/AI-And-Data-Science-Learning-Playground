{
 "cells": [
  {
   "cell_type": "code",
   "execution_count": 1,
   "metadata": {},
   "outputs": [
    {
     "data": {
      "text/html": [
       "<pre style=\"white-space:pre;overflow-x:auto;line-height:normal;font-family:Menlo,'DejaVu Sans Mono',consolas,'Courier New',monospace\"><span style=\"color: #808000; text-decoration-color: #808000; font-weight: bold\">/var/folders/x_/hjbkrymn4f18f_k_bxs3y_qr0000gp/T/ipykernel_24750/2518817645.py:</span><span style=\"color: #808000; text-decoration-color: #808000; font-weight: bold\">3</span><span style=\"color: #808000; text-decoration-color: #808000; font-weight: bold\"> DeprecationWarning</span><span style=\"color: #808000; text-decoration-color: #808000\">: The `airflow.operators.python_operator.PythonOperator` class is deprecated. Please use `</span><span style=\"color: #808000; text-decoration-color: #808000\">'airflow.operators.python.PythonOperator'</span><span style=\"color: #808000; text-decoration-color: #808000\">`.</span>\n",
       "</pre>\n"
      ],
      "text/plain": [
       "\u001b[1;33m/var/folders/x_/hjbkrymn4f18f_k_bxs3y_qr0000gp/T/ipykernel_24750/\u001b[0m\u001b[1;33m2518817645.py\u001b[0m\u001b[1;33m:\u001b[0m\u001b[1;33m3\u001b[0m\u001b[1;33m DeprecationWarning\u001b[0m\u001b[33m: The `airflow.operators.python_operator.PythonOperator` class is deprecated. Please use `\u001b[0m\u001b[33m'airflow.operators.python.PythonOperator'\u001b[0m\u001b[33m`.\u001b[0m\n"
      ]
     },
     "metadata": {},
     "output_type": "display_data"
    },
    {
     "data": {
      "text/html": [
       "<pre style=\"white-space:pre;overflow-x:auto;line-height:normal;font-family:Menlo,'DejaVu Sans Mono',consolas,'Courier New',monospace\"><span style=\"color: #808000; text-decoration-color: #808000; font-weight: bold\">/var/folders/x_/hjbkrymn4f18f_k_bxs3y_qr0000gp/T/ipykernel_24750/2518817645.py:</span><span style=\"color: #808000; text-decoration-color: #808000; font-weight: bold\">11</span><span style=\"color: #808000; text-decoration-color: #808000; font-weight: bold\"> RemovedInAirflow3Warning</span><span style=\"color: #808000; text-decoration-color: #808000\">: Param `schedule_interval` is deprecated and will be removed in a future release. Please use `schedule` instead.</span>\n",
       "</pre>\n"
      ],
      "text/plain": [
       "\u001b[1;33m/var/folders/x_/hjbkrymn4f18f_k_bxs3y_qr0000gp/T/ipykernel_24750/\u001b[0m\u001b[1;33m2518817645.py\u001b[0m\u001b[1;33m:\u001b[0m\u001b[1;33m11\u001b[0m\u001b[1;33m RemovedInAirflow3Warning\u001b[0m\u001b[33m: Param `schedule_interval` is deprecated and will be removed in a future release. Please use `schedule` instead.\u001b[0m\n"
      ]
     },
     "metadata": {},
     "output_type": "display_data"
    }
   ],
   "source": [
    "from datetime import datetime\n",
    "from airflow import DAG\n",
    "from airflow.operators.python_operator import PythonOperator\n",
    "import pandas as pd\n",
    "\n",
    "default_args = {\n",
    "    'owner': 'you',\n",
    "    'start_date': datetime(2023, 10, 2),  # Adjust the date accordingly\n",
    "}\n",
    "\n",
    "dag = DAG(\n",
    "    'ecommerce_etl',\n",
    "    default_args=default_args,\n",
    "    description='ETL workflow for E-commerce data',\n",
    "    schedule_interval='@daily',\n",
    ")\n"
   ]
  },
  {
   "cell_type": "code",
   "execution_count": null,
   "metadata": {},
   "outputs": [],
   "source": [
    "# Extract\n",
    "def extract(**kwargs):\n",
    "    data_path = \"path_to_your_downloaded_file.csv\"\n",
    "    df = pd.read_csv(data_path)\n",
    "    return df\n",
    "\n",
    "# Transform\n",
    "def transform(**kwargs):\n",
    "    ti = kwargs['ti']\n",
    "    df = ti.xcom_pull(task_ids='extract_task')\n",
    "    \n",
    "    # Drop missing values (for simplicity)\n",
    "    df_cleaned = df.dropna()\n",
    "    return df_cleaned\n",
    "\n",
    "# Load (For this example, we'll just save the cleaned data to a new CSV)\n",
    "def load(**kwargs):\n",
    "    ti = kwargs['ti']\n",
    "    df_cleaned = ti.xcom_pull(task_ids='transform_task')\n",
    "    df_cleaned.to_csv(\"path_where_you_want_to_save_cleaned_data.csv\", index=False)\n"
   ]
  },
  {
   "cell_type": "code",
   "execution_count": null,
   "metadata": {},
   "outputs": [],
   "source": [
    "# Define the extract task\n",
    "extract_task = PythonOperator(\n",
    "    task_id='extract_task',\n",
    "    python_callable=extract,\n",
    "    provide_context=True,\n",
    "    dag=dag,\n",
    ")\n",
    "\n",
    "# Define the transform task\n",
    "transform_task = PythonOperator(\n",
    "    task_id='transform_task',\n",
    "    python_callable=transform,\n",
    "    provide_context=True,\n",
    "    dag=dag,\n",
    ")\n",
    "\n",
    "# Define the load task\n",
    "load_task = PythonOperator(\n",
    "    task_id='load_task',\n",
    "    python_callable=load,\n",
    "    provide_context=True,\n",
    "    dag=dag,\n",
    ")\n",
    "\n",
    "# Set the task order\n",
    "extract_task >> transform_task >> load_task\n"
   ]
  },
  {
   "cell_type": "code",
   "execution_count": null,
   "metadata": {},
   "outputs": [],
   "source": [
    "# Define the extract task with retries\n",
    "extract_task = PythonOperator(\n",
    "    task_id='extract_task',\n",
    "    python_callable=extract,\n",
    "    provide_context=True,\n",
    "    retries=3,  # Number of retries if the task fails\n",
    "    retry_delay=timedelta(minutes=5),  # Delay between retries\n",
    "    dag=dag,\n",
    ")"
   ]
  }
 ],
 "metadata": {
  "kernelspec": {
   "display_name": ".venv",
   "language": "python",
   "name": "python3"
  },
  "language_info": {
   "codemirror_mode": {
    "name": "ipython",
    "version": 3
   },
   "file_extension": ".py",
   "mimetype": "text/x-python",
   "name": "python",
   "nbconvert_exporter": "python",
   "pygments_lexer": "ipython3",
   "version": "3.11.5"
  },
  "orig_nbformat": 4
 },
 "nbformat": 4,
 "nbformat_minor": 2
}
